{
 "cells": [
  {
   "cell_type": "code",
   "execution_count": 10,
   "metadata": {},
   "outputs": [
    {
     "name": "stdout",
     "output_type": "stream",
     "text": [
      "Enter number 1: 12\n",
      "Enter number 2: 23\n",
      "Enter Operator: ^\n",
      "6624737266949237011120128\n"
     ]
    }
   ],
   "source": [
    "number1 = int(input(\"Enter number 1: \"))\n",
    "number2 = int(input(\"Enter number 2: \"))\n",
    "operator = input(\"Enter Operator: \")\n",
    "\n",
    "\n",
    "if operator == '+':\n",
    "    print(number1 + number2)\n",
    "elif operator == '-':\n",
    "    print(number1 - number2)\n",
    "elif operator == '*':\n",
    "    print(number1*number2)\n",
    "elif operator == '/':\n",
    "    print(number1 / number2)\n",
    "elif operator == '^':\n",
    "    print(number1**number2)\n",
    "else:\n",
    "    print(\"Invalid operator\")"
   ]
  },
  {
   "cell_type": "code",
   "execution_count": 11,
   "metadata": {},
   "outputs": [
    {
     "name": "stdout",
     "output_type": "stream",
     "text": [
      "['78', '4']\n"
     ]
    }
   ],
   "source": [
    "list = ['78', 'EBAD', 'Uzair', 'Ali', '4']\n",
    "for x in list:\n",
    "    newlist = [s for s in list if s.isdigit()]\n",
    "\n",
    "print(newlist)"
   ]
  },
  {
   "cell_type": "code",
   "execution_count": 12,
   "metadata": {},
   "outputs": [
    {
     "name": "stdout",
     "output_type": "stream",
     "text": [
      "Enter the key: \"HONEY\"\n",
      "Enter the value: KEY\n",
      "{'\"HONEY\"': 'KEY', 2: 'forLock'}\n"
     ]
    }
   ],
   "source": [
    "# Dictionary class  \n",
    "class my_dictionary(dict):  \n",
    "  \n",
    "    # __init__ function  \n",
    "    def __init__(self):  \n",
    "        self = dict()  \n",
    "          \n",
    "    # Function to add key:value  \n",
    "    def add(self, key, value):  \n",
    "        self[key] = value  \n",
    "  \n",
    "# Main Function  \n",
    "dict_obj = my_dictionary()  \n",
    "  \n",
    "# Taking input key = 1, value = KEY \n",
    "dict_obj.key = input(\"Enter the key: \") \n",
    "dict_obj.value = input(\"Enter the value: \") \n",
    "  \n",
    "dict_obj.add(dict_obj.key, dict_obj.value)  \n",
    "dict_obj.add(2, 'forLock')  \n",
    "  \n",
    "print(dict_obj)"
   ]
  },
  {
   "cell_type": "code",
   "execution_count": 13,
   "metadata": {},
   "outputs": [
    {
     "name": "stdout",
     "output_type": "stream",
     "text": [
      "1626\n"
     ]
    }
   ],
   "source": [
    "my_dict = {'NUM1':1000,'NUM2':540,'NUM3':86}\n",
    "print(sum(my_dict.values()))"
   ]
  },
  {
   "cell_type": "code",
   "execution_count": 7,
   "metadata": {},
   "outputs": [
    {
     "name": "stdout",
     "output_type": "stream",
     "text": [
      "{4, 5}\n"
     ]
    }
   ],
   "source": [
    "l = [1,2,4,4,5,5]\n",
    "model=set([model for model in l if l.count(model) > 1])\n",
    "print(model)"
   ]
  },
  {
   "cell_type": "code",
   "execution_count": 9,
   "metadata": {},
   "outputs": [
    {
     "name": "stdout",
     "output_type": "stream",
     "text": [
      "Enter Value: 2\n",
      "Key is present in the dictionary\n"
     ]
    }
   ],
   "source": [
    "d = {1: 20, 2: 40, 3: 60, 4: 80, 5: 100, 6: 120}\n",
    "x=int(input(\"Enter Value: \"))\n",
    "\n",
    "def is_key_present(x):\n",
    "  if x in d:\n",
    "      print('Key is present in the dictionary')\n",
    "  else:\n",
    "      print('Key is not present in the dictionary')\n",
    "\n",
    "is_key_present(x)"
   ]
  },
  {
   "cell_type": "code",
   "execution_count": null,
   "metadata": {},
   "outputs": [],
   "source": []
  }
 ],
 "metadata": {
  "kernelspec": {
   "display_name": "Python 3",
   "language": "python",
   "name": "python3"
  },
  "language_info": {
   "codemirror_mode": {
    "name": "ipython",
    "version": 3
   },
   "file_extension": ".py",
   "mimetype": "text/x-python",
   "name": "python",
   "nbconvert_exporter": "python",
   "pygments_lexer": "ipython3",
   "version": "3.7.4"
  }
 },
 "nbformat": 4,
 "nbformat_minor": 2
}
