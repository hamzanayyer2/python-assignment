{
 "cells": [
  {
   "cell_type": "code",
   "execution_count": 12,
   "metadata": {},
   "outputs": [
    {
     "name": "stdout",
     "output_type": "stream",
     "text": [
      "Enter the marks of Urdu54\n",
      "Enter the marks of Science32\n",
      "Enter the marks of English45\n",
      "Enter the marks of Computer76\n",
      "Enter the marks of Maths89\n",
      "YOU HAVE FAILED IN EXAM\n"
     ]
    }
   ],
   "source": [
    "number1=int(input(\"Enter the marks of Urdu\"))\n",
    "number2=int(input(\"Enter the marks of Science\"))\n",
    "number3=int(input(\"Enter the marks of English\"))\n",
    "number4=int(input(\"Enter the marks of Computer\"))\n",
    "number5=int(input(\"Enter the marks of Maths\"))\n",
    "total= (number1 + number2 +number3 +number4+number5)/500\n",
    "if total>90:\n",
    "    print(\"YU HAVE SECURED A+\")\n",
    "elif total<90 and total>80:\n",
    "    print(\"YOU HAVE SECURED A\")\n",
    "elif total<80 and total>70:\n",
    "    print(\"YOU HAVE SECURED B\")\n",
    "elif total<70 and total>60:\n",
    "    print(\"YOU HAVE SECURED C\") \n",
    "elif total<60 and total>50:\n",
    "    print(\"YOU HAVE SECURED D\")  \n",
    "else:\n",
    "    print(\"YOU HAVE FAILED IN EXAM\")\n"
   ]
  },
  {
   "cell_type": "code",
   "execution_count": 2,
   "metadata": {},
   "outputs": [
    {
     "name": "stdout",
     "output_type": "stream",
     "text": [
      "Enter the number65\n",
      "Entered number is odd\n"
     ]
    }
   ],
   "source": [
    "number=int(input(\"Enter the number\"))\n",
    "if (number %2 ==0):\n",
    "    print(\"Entered number is even\")\n",
    "else:\n",
    "    print(\"Entered number is odd\")\n"
   ]
  },
  {
   "cell_type": "code",
   "execution_count": 7,
   "metadata": {},
   "outputs": [
    {
     "name": "stdout",
     "output_type": "stream",
     "text": [
      "5\n"
     ]
    }
   ],
   "source": [
    "list=len([\"saad\",\"robert\",\"honey\",\"hamza\",\"ahsan\"])\n",
    "print(list)"
   ]
  },
  {
   "cell_type": "code",
   "execution_count": 8,
   "metadata": {},
   "outputs": [
    {
     "name": "stdout",
     "output_type": "stream",
     "text": [
      "120\n"
     ]
    }
   ],
   "source": [
    "numeric_list=sum([4,34,5,67,10])\n",
    "print(numeric_list)"
   ]
  },
  {
   "cell_type": "code",
   "execution_count": 9,
   "metadata": {},
   "outputs": [
    {
     "name": "stdout",
     "output_type": "stream",
     "text": [
      "67\n"
     ]
    }
   ],
   "source": [
    "largest_number=max([4,34,5,67,10])\n",
    "print(largest_number)"
   ]
  },
  {
   "cell_type": "code",
   "execution_count": 10,
   "metadata": {},
   "outputs": [
    {
     "name": "stdout",
     "output_type": "stream",
     "text": [
      "Number less than 5 are\n",
      "1\n",
      "1\n",
      "2\n",
      "3\n"
     ]
    }
   ],
   "source": [
    "list = [1, 1, 2, 3, 5, 8, 13, 21, 34, 55, 89]\n",
    "print(\"Number less than 5 are\")\n",
    "for i in list:\n",
    "    if i<5:\n",
    "        print(i)"
   ]
  },
  {
   "cell_type": "code",
   "execution_count": null,
   "metadata": {},
   "outputs": [],
   "source": []
  }
 ],
 "metadata": {
  "kernelspec": {
   "display_name": "Python 3",
   "language": "python",
   "name": "python3"
  },
  "language_info": {
   "codemirror_mode": {
    "name": "ipython",
    "version": 3
   },
   "file_extension": ".py",
   "mimetype": "text/x-python",
   "name": "python",
   "nbconvert_exporter": "python",
   "pygments_lexer": "ipython3",
   "version": "3.7.4"
  }
 },
 "nbformat": 4,
 "nbformat_minor": 2
}
